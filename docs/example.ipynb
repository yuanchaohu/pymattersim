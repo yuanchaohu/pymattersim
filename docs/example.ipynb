{
 "cells": [
  {
   "cell_type": "code",
   "execution_count": null,
   "id": "d07e0e53",
   "metadata": {},
   "outputs": [],
   "source": [
    "import numpy as np\n",
    "from reader.dump_reader import DumpReader\n",
    "from static.shape import gyration_tensor\n",
    "test_file = \"test.atom\"\n",
    "input_v = DumpReader(test_file, ndim=2)\n",
    "input_v.read_onefile()\n",
    "gt = gyration_tensor(input_v.snapshots.snapshots[0].positions)"
   ]
  },
  {
   "cell_type": "code",
   "execution_count": null,
   "id": "cf9ece2b",
   "metadata": {},
   "outputs": [],
   "source": [
    "import numpy as np\n",
    "from reader.dump_reader import DumpReader\n",
    "from reader.reader_utils import DumpFileType\n",
    "from static.vector import participation_ratio\n",
    "\n",
    "test_file = \"test.atom\"\n",
    "Readdump =DumpReader(test_file, ndim=2,filetype=DumpFileType.LAMMPSVECTOR,columnsids=[5,6])\n",
    "Readdump.read_onefile()\n",
    "v = test_file.snapshots.snapshots[0].positions\n",
    "pr = participation_ratio(v)"
   ]
  },
  {
   "cell_type": "code",
   "execution_count": null,
   "id": "a8de1707",
   "metadata": {},
   "outputs": [],
   "source": [
    "import numpy as np\n",
    "from reader.dump_reader import DumpReader\n",
    "from reader.reader_utils import DumpFileType\n",
    "from static.vector import local_vector_alignment\n",
    "from neighbors.calculate_neighbors import Nnearests\n",
    "\n",
    "\n",
    "test_file = \"test.atom\"\n",
    "input_vp =DumpReader(test_file, ndim=2)\n",
    "input_vp.read_onefile()\n",
    "input_v =DumpReader(test_file, ndim=2,filetype=DumpFileType.LAMMPSVECTOR,columnsids=[5,6])\n",
    "input_v.read_onefile()\n",
    "Nnearests(input_vp.snapshots, N = 6, ppp = np.array([1,1]),  fnfile = 'neighborlist.dat')\n",
    "neighborfile='neighborlist.dat'\n",
    "        \n",
    "v = input_v.snapshots.snapshots[0].positions\n",
    "pr = local_vector_alignment(v,neighborfile)\n"
   ]
  },
  {
   "cell_type": "code",
   "execution_count": null,
   "id": "62d7168c",
   "metadata": {},
   "outputs": [],
   "source": [
    "import numpy as np\n",
    "from reader.dump_reader import DumpReader\n",
    "from static.vector import phase_quotient\n",
    "from neighbors.calculate_neighbors import Nnearests\n",
    "\n",
    "test_file = \"test.atom\"\n",
    "input_vp =DumpReader(test_file, ndim=2)\n",
    "input_vp.read_onefile()\n",
    "input_v =DumpReader(test_file, ndim=2,filetype=DumpFileType.LAMMPSVECTOR,columnsids=[5,6])\n",
    "input_v.read_onefile()\n",
    "Nnearests(input_vp.snapshots, N = 6, ppp = np.array([1,1]),  fnfile = 'neighborlist.dat')\n",
    "neighborfile='neighborlist.dat'\n",
    "        \n",
    "v = input_v.snapshots.snapshots[0].positions\n",
    "pq = phase_quotient(v,neighborfile)\n"
   ]
  },
  {
   "cell_type": "code",
   "execution_count": null,
   "id": "79c3d335",
   "metadata": {},
   "outputs": [],
   "source": [
    "import numpy as np\n",
    "from reader.dump_reader import DumpReader\n",
    "from static.vector import divergence_curl\n",
    "from neighbors.calculate_neighbors import Nnearests\n",
    "\n",
    "test_file = \"test.atom\"\n",
    "input_vp =DumpReader(test_file, ndim=2)\n",
    "input_vp.read_onefile()\n",
    "input_v =DumpReader(test_file, ndim=2,filetype=DumpFileType.LAMMPSVECTOR,columnsids=[5,6])\n",
    "input_v.read_onefile()\n",
    "\n",
    "ppp = np.array([1,1])\n",
    "Nnearests(input_vp.snapshots, N = 6, ppp = ppp,  fnfile = 'neighborlist.dat')\n",
    "neighborfile='neighborlist.dat'\n",
    "        \n",
    "v = input_v.snapshots.snapshots[0].positions\n",
    "pq = divergence_curl(input_vp.snapshots.snapshots[0],v,ppp,neighborfile)[:10]"
   ]
  },
  {
   "cell_type": "code",
   "execution_count": null,
   "id": "433aeb03",
   "metadata": {},
   "outputs": [],
   "source": [
    "import numpy as np\n",
    "from reader.dump_reader import DumpReader\n",
    "from static.vector import vibrability\n",
    "#example for 10x10 matrix\n",
    "a = np.array([[2, 3, 4, 1, 3, 3, 2, 2, 2, 2],\n",
    "            [3, 2, 2, 2, 3, 3, 3, 2, 3, 3],\n",
    "            [2, 2, 3, 3, 1, 2, 4, 1, 4, 3],\n",
    "            [2, 1, 2, 2, 3, 1, 1, 2, 3, 4],\n",
    "            [3, 2, 3, 4, 3, 2, 2, 2, 1, 4],\n",
    "            [4, 3, 4, 1, 2, 2, 4, 2, 2, 3],\n",
    "            [3, 4, 3, 1, 1, 1, 2, 2, 3, 1],\n",
    "            [3, 1, 2, 3, 2, 4, 2, 4, 4, 1],\n",
    "            [2, 2, 2, 4, 3, 4, 3, 3, 3, 2],\n",
    "            [1, 1, 1, 1, 1, 1, 2, 1, 2, 3]])\n",
    "eigenfrequencies, eigenvectors = np.linalg.eig(a)\n",
    "eigenfrequencies = np.abs(eigenfrequencies.real)\n",
    "eigenfrequencies = np.sqrt(eigenfrequencies)\n",
    "eigenvectors = eigenvectors.real\n",
    "vb = vibrability(eigenfrequencies,eigenvectors,10)"
   ]
  },
  {
   "cell_type": "code",
   "execution_count": null,
   "id": "eb9678be",
   "metadata": {},
   "outputs": [],
   "source": [
    "import numpy as np\n",
    "from reader.dump_reader import DumpReader\n",
    "from static.vector import vector_decomposition_sq\n",
    "from utils.wavevector import choosewavevector\n",
    "test_file = \"test.atom\"\n",
    "\n",
    "input_vp =DumpReader(test_file, ndim=2)\n",
    "input_vp.read_onefile()\n",
    "input_v =DumpReader(test_file, ndim=2,filetype=DumpFileType.LAMMPSVECTOR,columnsids=[5,6])\n",
    "input_v.read_onefile()\n",
    "\n",
    "v = test_file.snapshots.snapshots[0].positions\n",
    "qvector = choosewavevector(2,10)\n",
    "vector_fft, ave_sqresults=vector_decomposition_sq(input_vp.snapshots.snapshots[0],qvector,v)"
   ]
  },
  {
   "cell_type": "code",
   "execution_count": null,
   "id": "a6f04629",
   "metadata": {},
   "outputs": [],
   "source": [
    "import numpy as np\n",
    "from reader.dump_reader import DumpReader\n",
    "from static.vector import vector_fft_corr\n",
    "from utils.wavevector import choosewavevector\n",
    "test_file = \"test.atom\"\n",
    "\n",
    "input_vp =DumpReader(test_file, ndim=2)\n",
    "input_vp.read_onefile()\n",
    "input_v =DumpReader(test_file, ndim=2,filetype=DumpFileType.LAMMPSVECTOR,columnsids=[5,6])\n",
    "input_v.read_onefile()\n",
    "\n",
    "qvector = choosewavevector(2, 27, False)\n",
    "v =[]\n",
    "for i in range(input_v.snapshots.nsnapshots):\n",
    "    temp = input_v.snapshots.snapshots[i].positions\n",
    "    v.append(temp)\n",
    "v=np.array(v)\n",
    "alldata = vector_fft_corr(input_vp.snapshots,qvector,v,outputfile=\"test\")"
   ]
  },
  {
   "cell_type": "code",
   "execution_count": null,
   "id": "f9d73bb5",
   "metadata": {},
   "outputs": [],
   "source": [
    "import numpy as np\n",
    "from reader.dump_reader import DumpReader\n",
    "from static.nematic import NematicOrder\n",
    "test_file = \"test.atom\"\n",
    "\n",
    "input_x =DumpReader(test_file, ndim=2)\n",
    "input_x.read_onefile()\n",
    "input_or =DumpReader(test_file, ndim=2,filetype=DumpFileType.LAMMPSVECTOR,columnsids=[5,6])\n",
    "input_or.read_onefile()\n",
    "Nematic = NematicOrder(input_or.snapshots,input_x.snapshots)\n",
    "ppp = np.array([1,1])\n",
    "\n",
    "t = Nematic.tensor(outputfile='test')\n",
    "sc = Nematic.spatial_corr(rdelta=0.01,ppp=ppp)\n",
    "tc = Nematic.time_corr(dt=0.002)"
   ]
  },
  {
   "cell_type": "code",
   "execution_count": null,
   "id": "61e97e6e",
   "metadata": {},
   "outputs": [],
   "source": [
    "import numpy as np\n",
    "from reader.dump_reader import DumpReader\n",
    "from utils.coarse_graining import spatial_average \n",
    "\n",
    "test_file = \"test.atom\"\n",
    "readdump = DumpReader(test_file, ndim=2)\n",
    "readdump.read_onefile()\n",
    "input_property = np.random.rand([readdump.snapshots.nsnapshots, readdump.snapshots.snapshots.nparticle])\n",
    "Nnearests(readdump.snapshots, N = 6, ppp = np.array([1,1]),  fnfile = 'neighborlist.dat')\n",
    "neighborfile='neighborlist.dat'\n",
    "sa = spatial_average(input_property,neighborfile)"
   ]
  },
  {
   "cell_type": "code",
   "execution_count": null,
   "id": "97c69078",
   "metadata": {},
   "outputs": [],
   "source": [
    "import numpy as np\n",
    "from reader.dump_reader import DumpReader\n",
    "from utils.coarse_graining import gaussian_blurring\n",
    "\n",
    "test_file = \"test.atom\"\n",
    "readdump = DumpReader(test_file, ndim=2)\n",
    "readdump.read_onefile()\n",
    "ppp = ppp = np.array([1,1])\n",
    "ngrids = [20,20]\n",
    "input_property = np.random.rand([readdump.snapshots.nsnapshots, readdump.snapshots.snapshots.nparticle])\n",
    "\n",
    "gb_position, gb = gaussian_blurring(readdump.snapshots,input_property,ngrids,2.0,ppp)\n"
   ]
  }
 ],
 "metadata": {
  "kernelspec": {
   "display_name": "Python 3 (ipykernel)",
   "language": "python",
   "name": "python3"
  },
  "language_info": {
   "codemirror_mode": {
    "name": "ipython",
    "version": 3
   },
   "file_extension": ".py",
   "mimetype": "text/x-python",
   "name": "python",
   "nbconvert_exporter": "python",
   "pygments_lexer": "ipython3",
   "version": "3.11.9"
  }
 },
 "nbformat": 4,
 "nbformat_minor": 5
}
